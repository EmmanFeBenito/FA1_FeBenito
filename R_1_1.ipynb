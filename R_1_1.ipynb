{
  "nbformat": 4,
  "nbformat_minor": 0,
  "metadata": {
    "colab": {
      "provenance": []
    },
    "kernelspec": {
      "name": "python3",
      "display_name": "Python 3"
    },
    "language_info": {
      "name": "python"
    }
  },
  "cells": [
    {
      "cell_type": "code",
      "execution_count": 7,
      "metadata": {
        "colab": {
          "base_uri": "https://localhost:8080/"
        },
        "id": "VN0Dw0spPHrx",
        "outputId": "6349d28f-4ebf-402a-c418-207510a1d559"
      },
      "outputs": [
        {
          "output_type": "stream",
          "name": "stdout",
          "text": [
            "Enter the value of n: 8\n",
            "Enter the value of m: 2\n",
            "The result is: True\n"
          ]
        }
      ],
      "source": [
        "def is_multiple(n, m):\n",
        "    return n % m == 0\n",
        "\n",
        "def is_multiple_input():\n",
        "    n = int(input(\"Enter the value of n: \"))\n",
        "    m = int(input(\"Enter the value of m: \"))\n",
        "\n",
        "    result = is_multiple(n, m)\n",
        "\n",
        "    print(f\"The result is: {result}\")\n",
        "\n",
        "is_multiple_input()\n"
      ]
    },
    {
      "cell_type": "code",
      "source": [
        "def is_multiple(n, m):\n",
        "    return n % m == 0\n",
        "\n",
        "def is_multiple_input():\n",
        "    n = int(input(\"Enter the value of n: \"))\n",
        "    m = int(input(\"Enter the value of m: \"))\n",
        "\n",
        "    result = is_multiple(n, m)\n",
        "\n",
        "    print(f\"The result is: {result}\")\n",
        "\n",
        "is_multiple_input()"
      ],
      "metadata": {
        "colab": {
          "base_uri": "https://localhost:8080/"
        },
        "id": "b9I0Rp79SGPt",
        "outputId": "fb8d95f4-3160-4c6f-a180-1e08fa7cdb37"
      },
      "execution_count": 5,
      "outputs": [
        {
          "output_type": "stream",
          "name": "stdout",
          "text": [
            "Enter the value of n: 5\n",
            "Enter the value of m: 3\n",
            "The result is: False\n"
          ]
        }
      ]
    }
  ]
}